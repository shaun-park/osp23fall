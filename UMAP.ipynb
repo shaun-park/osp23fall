{
 "cells": [
  {
   "cell_type": "markdown",
   "metadata": {
    "id": "YoVbkTFmyL0q"
   },
   "source": [
    "# UMAP"
   ]
  },
  {
   "cell_type": "code",
   "execution_count": null,
   "metadata": {
    "id": "dlT0jNgeyL0s"
   },
   "outputs": [],
   "source": [
    "import numpy as np\n",
    "from sklearn.datasets import load_digits\n",
    "from sklearn.model_selection import train_test_split\n",
    "from sklearn.preprocessing import StandardScaler\n",
    "import matplotlib.pyplot as plt\n",
    "import seaborn as sns\n",
    "import pandas as pd\n",
    "%matplotlib inline"
   ]
  },
  {
   "cell_type": "code",
   "execution_count": null,
   "metadata": {
    "id": "N7R4QZ61yL0u"
   },
   "outputs": [],
   "source": [
    "import umap.umap_ as umap\n",
    "\n",
    "# reducer = umap.UMAP()\n",
    "reducer = umap.tSNE()"
   ]
  },
  {
   "cell_type": "code",
   "execution_count": null,
   "metadata": {
    "id": "vQO8F7LnyL0u"
   },
   "outputs": [],
   "source": [
    "total_df_new = pd.read_csv('./_results/df_384_out_concat_210927.csv', skiprows = 0, low_memory=False)"
   ]
  },
  {
   "cell_type": "code",
   "execution_count": null,
   "metadata": {
    "id": "cj2LIrgdyL0u"
   },
   "outputs": [],
   "source": [
    "i = 0\n",
    "for val in total_df_new:\n",
    "    print(i, val)\n",
    "    i += 1\n",
    "\n",
    "print('\\n' + str(i))"
   ]
  },
  {
   "cell_type": "code",
   "execution_count": null,
   "metadata": {
    "id": "STkhm-IWyL0v"
   },
   "outputs": [],
   "source": [
    "embedding_features = total_df_new.iloc[:, 0:128]  # For the Color Embedding"
   ]
  },
  {
   "cell_type": "code",
   "execution_count": null,
   "metadata": {
    "id": "CPlWQAw7yL0v"
   },
   "outputs": [],
   "source": [
    "i = 0\n",
    "for val in embedding_features:\n",
    "    embedding_features[str(i)] = pd.to_numeric(embedding_features[str(i)],errors = 'coerce')\n",
    "    i += 1\n",
    "\n",
    "print('\\n' + str(i))"
   ]
  },
  {
   "cell_type": "code",
   "execution_count": null,
   "metadata": {
    "id": "mOX33EBZyL0v"
   },
   "outputs": [],
   "source": [
    "embedding_features.replace([np.inf, -np.inf], np.nan, inplace=True)\n",
    "embedding_features.dropna(inplace=True)"
   ]
  },
  {
   "cell_type": "code",
   "execution_count": null,
   "metadata": {
    "id": "Q5JW8p8kyL0w"
   },
   "outputs": [],
   "source": [
    "embedding_features"
   ]
  },
  {
   "cell_type": "code",
   "execution_count": null,
   "metadata": {
    "id": "XYFs6nbxyL0w"
   },
   "outputs": [],
   "source": [
    "embedding_UMAP = reducer.fit_transform(embedding_features)\n",
    "print(embedding_UMAP.shape)\n",
    "print(embedding_UMAP[:, 1])"
   ]
  },
  {
   "cell_type": "code",
   "execution_count": null,
   "metadata": {
    "id": "uP31WOA7yL0x"
   },
   "outputs": [],
   "source": [
    "embedding_UMAP"
   ]
  },
  {
   "cell_type": "code",
   "execution_count": null,
   "metadata": {
    "id": "_hxl6Zi2yL0x"
   },
   "outputs": [],
   "source": [
    "#####"
   ]
  }
 ],
 "metadata": {
  "colab": {
   "provenance": []
  },
  "kernelspec": {
   "display_name": "Python 3",
   "language": "python",
   "name": "python3"
  },
  "language_info": {
   "codemirror_mode": {
    "name": "ipython",
    "version": 3
   },
   "file_extension": ".py",
   "mimetype": "text/x-python",
   "name": "python",
   "nbconvert_exporter": "python",
   "pygments_lexer": "ipython3",
   "version": "3.7.6"
  }
 },
 "nbformat": 4,
 "nbformat_minor": 0
}
