{
 "cells": [
  {
   "cell_type": "code",
   "execution_count": null,
   "metadata": {
    "colab": {
     "base_uri": "https://localhost:8080/"
    },
    "executionInfo": {
     "elapsed": 25087,
     "status": "ok",
     "timestamp": 1695703120029,
     "user": {
      "displayName": "Sungkyu Shaun Park",
      "userId": "08977816871207398587"
     },
     "user_tz": -540
    },
    "id": "qHoZl3xnx7eR",
    "outputId": "08daa71f-a310-4e3b-8653-58d935578c34"
   },
   "outputs": [],
   "source": [
    "from google.colab import drive\n",
    "drive.mount('/content/drive')"
   ]
  },
  {
   "cell_type": "code",
   "execution_count": null,
   "metadata": {
    "colab": {
     "base_uri": "https://localhost:8080/"
    },
    "executionInfo": {
     "elapsed": 11,
     "status": "ok",
     "timestamp": 1695702900121,
     "user": {
      "displayName": "Sungkyu Shaun Park",
      "userId": "08977816871207398587"
     },
     "user_tz": -540
    },
    "id": "y9E6sDp6xHJX",
    "outputId": "0393f208-5a65-439b-c8a0-81436b0e0e7a"
   },
   "outputs": [],
   "source": [
    "print(\"hello world\")"
   ]
  },
  {
   "cell_type": "code",
   "execution_count": null,
   "metadata": {
    "colab": {
     "base_uri": "https://localhost:8080/",
     "height": 35
    },
    "executionInfo": {
     "elapsed": 33,
     "status": "ok",
     "timestamp": 1695703156890,
     "user": {
      "displayName": "Sungkyu Shaun Park",
      "userId": "08977816871207398587"
     },
     "user_tz": -540
    },
    "id": "Kbcki7NOxL-M",
    "outputId": "f7280b62-788a-4de2-df84-8314c6e3132a"
   },
   "outputs": [],
   "source": [
    "pwd"
   ]
  },
  {
   "cell_type": "code",
   "execution_count": null,
   "metadata": {
    "colab": {
     "base_uri": "https://localhost:8080/"
    },
    "executionInfo": {
     "elapsed": 411,
     "status": "ok",
     "timestamp": 1695703943330,
     "user": {
      "displayName": "Sungkyu Shaun Park",
      "userId": "08977816871207398587"
     },
     "user_tz": -540
    },
    "id": "eAKo5fEzyL7p",
    "outputId": "19fd5714-f81a-4d97-f7f7-ef618d44dcf1"
   },
   "outputs": [],
   "source": [
    "for i in range(0,3):\n",
    "  print(i)"
   ]
  },
  {
   "cell_type": "code",
   "execution_count": null,
   "metadata": {
    "colab": {
     "base_uri": "https://localhost:8080/"
    },
    "executionInfo": {
     "elapsed": 12,
     "status": "ok",
     "timestamp": 1695704596941,
     "user": {
      "displayName": "Sungkyu Shaun Park",
      "userId": "08977816871207398587"
     },
     "user_tz": -540
    },
    "id": "hYAI7Mx63nTs",
    "outputId": "9bbda00d-f2be-4be1-9cd6-df4e5ca383cf"
   },
   "outputs": [],
   "source": [
    "for j in range(0,5):\n",
    "  print(j)"
   ]
  },
  {
   "cell_type": "code",
   "execution_count": null,
   "metadata": {
    "id": "0VGfjtu73r4q"
   },
   "outputs": [],
   "source": []
  }
 ],
 "metadata": {
  "colab": {
   "authorship_tag": "ABX9TyMZb9IsZBRj7c3tJ874o4oz",
   "provenance": []
  },
  "kernelspec": {
   "display_name": "Python 3",
   "name": "python3"
  },
  "language_info": {
   "name": "python"
  }
 },
 "nbformat": 4,
 "nbformat_minor": 0
}
